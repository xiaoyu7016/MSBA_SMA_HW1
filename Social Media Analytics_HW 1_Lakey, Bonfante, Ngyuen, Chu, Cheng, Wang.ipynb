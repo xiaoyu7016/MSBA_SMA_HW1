{
 "cells": [
  {
   "cell_type": "markdown",
   "metadata": {},
   "source": [
    "## TASKS 1 & 3"
   ]
  },
  {
   "cell_type": "code",
   "execution_count": 32,
   "metadata": {
    "collapsed": true
   },
   "outputs": [],
   "source": [
    "import os\n",
    "\n",
    "from pandas import DataFrame,Series\n",
    "import pandas as pd\n",
    "import numpy as np\n",
    "\n",
    "from sklearn import preprocessing,linear_model,ensemble,svm,grid_search\n",
    "import sklearn.metrics\n",
    "\n",
    "import matplotlib.pyplot as plt\n",
    "import warnings\n",
    "warnings.filterwarnings('ignore')"
   ]
  },
  {
   "cell_type": "code",
   "execution_count": 6,
   "metadata": {
    "collapsed": true
   },
   "outputs": [],
   "source": [
    "import os\n",
    "\n",
    "os.chdir('C:/Users/Brian/Desktop/MS-BA/03 Spring Semester/Social Media Analytics/assignment 1')"
   ]
  },
  {
   "cell_type": "code",
   "execution_count": 7,
   "metadata": {
    "collapsed": false
   },
   "outputs": [],
   "source": [
    "#READ train.csv\n",
    "#SPLIT into train and test (90% versus 10% sample)\n",
    "\n",
    "raw = pd.read_csv(\"train.csv\")\n",
    "raw_train = raw.iloc[:len(raw.index)*9/10,:]\n",
    "raw_test = raw.iloc[len(raw.index)*9/10:,:]"
   ]
  },
  {
   "cell_type": "markdown",
   "metadata": {},
   "source": [
    "BENCHMARK MODEL:\n",
    "\n",
    "Make a log transformation of the features\n",
    "Make a 50% feature reduction by calculating pairwise logarithmically-transformed differences\n",
    "Train a vanilla logistic model\n",
    "\n",
    "Value of prediction is maintained: =1 means Person A more likely to be influence, =0 means Person B more likely to be influencer"
   ]
  },
  {
   "cell_type": "code",
   "execution_count": 18,
   "metadata": {
    "collapsed": false
   },
   "outputs": [],
   "source": [
    "# Log transformations\n",
    "def log_trans(x):\n",
    "    return np.log(x+1)  # +1 to take care of 0 values\n",
    "\n",
    "# Train\n",
    "features = raw_train.iloc[:,1:12].columns \n",
    "y_train = raw_train.iloc[:,0]\n",
    "X_train_A = raw_train.iloc[:,1:12].as_matrix() #Person A\n",
    "X_train_B = raw_train.iloc[:,12:].as_matrix() #Person B\n",
    "X_train = log_trans(X_train_A) - log_trans(X_train_B) #Difference\n",
    "\n",
    "#Logistic regression\n",
    "model_logit = linear_model.LogisticRegression(fit_intercept = False)\n",
    "model_logit.fit(X_train,y_train)\n",
    "\n",
    "# Predict\n",
    "y_test = raw_test.iloc[:,0]\n",
    "X_test_A = raw_test.iloc[:,1:12].as_matrix()\n",
    "X_test_B = raw_test.iloc[:,12:].as_matrix()\n",
    "X_test = log_trans(X_test_A) - log_trans(X_test_B)\n",
    "y_pred_lgt = model_logit.predict(X_test)"
   ]
  },
  {
   "cell_type": "code",
   "execution_count": 19,
   "metadata": {
    "collapsed": false
   },
   "outputs": [
    {
     "data": {
      "text/plain": [
       "array([[213,  58],\n",
       "       [ 57, 222]])"
      ]
     },
     "execution_count": 19,
     "metadata": {},
     "output_type": "execute_result"
    }
   ],
   "source": [
    "# Confusion matrix\n",
    "cm_lgt = sklearn.metrics.confusion_matrix(y_test,y_pred_lgt)\n",
    "cm_lgt"
   ]
  },
  {
   "cell_type": "code",
   "execution_count": 20,
   "metadata": {
    "collapsed": false
   },
   "outputs": [
    {
     "data": {
      "text/plain": [
       "<matplotlib.colorbar.Colorbar at 0x225c372be10>"
      ]
     },
     "execution_count": 20,
     "metadata": {},
     "output_type": "execute_result"
    },
    {
     "data": {
      "image/png": "[encoded data removed]",
      "text/plain": [
       "<matplotlib.figure.Figure at 0x225c3ce03c8>"
      ]
     },
     "metadata": {},
     "output_type": "display_data"
    }
   ],
   "source": [
    "%matplotlib inline\n",
    "plt.matshow(cm_lgt)\n",
    "plt.colorbar()"
   ]
  },
  {
   "cell_type": "code",
   "execution_count": 21,
   "metadata": {
    "collapsed": false
   },
   "outputs": [
    {
     "data": {
      "text/plain": [
       "0.79090909090909089"
      ]
     },
     "execution_count": 21,
     "metadata": {},
     "output_type": "execute_result"
    }
   ],
   "source": [
    "# REPORT Accuracy Score\n",
    "accuracy_lgt = sklearn.metrics.accuracy_score(y_test,y_pred_lgt)\n",
    "accuracy_lgt"
   ]
  },
  {
   "cell_type": "markdown",
   "metadata": {},
   "source": [
    "Reporting AUC score for ROC curve, instead of accuracy:"
   ]
  },
  {
   "cell_type": "code",
   "execution_count": 22,
   "metadata": {
    "collapsed": false
   },
   "outputs": [
    {
     "data": {
      "text/plain": [
       "0.79083839225489028"
      ]
     },
     "execution_count": 22,
     "metadata": {},
     "output_type": "execute_result"
    }
   ],
   "source": [
    "# AUC score of ROC curve\n",
    "roc_auc_lgt = sklearn.metrics.roc_auc_score(y_test,y_pred_lgt)\n",
    "roc_auc_lgt"
   ]
  },
  {
   "cell_type": "code",
   "execution_count": 23,
   "metadata": {
    "collapsed": false
   },
   "outputs": [
    {
     "data": {
      "image/png": "[encoded data removed]",
      "text/plain": [
       "<matplotlib.figure.Figure at 0x225c372bcf8>"
      ]
     },
     "metadata": {},
     "output_type": "display_data"
    }
   ],
   "source": [
    "## Plot ROC curve\n",
    "%matplotlib inline\n",
    "tpr_lgt = 1.0 * cm_lgt[0,0]/(cm_lgt[0,0] + cm_lgt[0,1])\n",
    "fpr_lgt = 1.0 * cm_lgt[1,0]/(cm_lgt[1,0] + cm_lgt[1,1])\n",
    "plt.plot([0,fpr_lgt,1],[0,tpr_lgt,1],'ro-')\n",
    "plt.plot([0,1],[0,1],'b--')\n",
    "plt.axis([0,1,0,1])\n",
    "plt.show()"
   ]
  },
  {
   "cell_type": "markdown",
   "metadata": {},
   "source": [
    "However, in a symetric case where TPR and TNR are of equal interest we can just use accuracy score or AUC score of ROC curve\n",
    "This is a symmetric case, and we will be using accuracy throughout"
   ]
  },
  {
   "cell_type": "markdown",
   "metadata": {},
   "source": [
    "After calculating a baseline logisitic model, our goal is to learn additional classification models to see if accuracy can be improved, and to make further feature reduction.  \n",
    "\n",
    "In order to do this, we trained a gradient boosting model with default values to make prediction and measure the importance of predictors."
   ]
  },
  {
   "cell_type": "code",
   "execution_count": 24,
   "metadata": {
    "collapsed": true
   },
   "outputs": [],
   "source": [
    "model_gb = sklearn.ensemble.GradientBoostingClassifier(loss = 'exponential')\n",
    "model_gb.fit(X_train,y_train)\n",
    "y_pred_gb = model_gb.predict(X_test)\n",
    "  ## Param:\n",
    "   # loss = 'exponential'   - AdaBoost\n",
    "   # max_depth = 3\n",
    "   # learning_rate = 0.1\n",
    "   # subsample = 1   - Global (Not Stochastic)\n",
    "   # max_features = 11"
   ]
  },
  {
   "cell_type": "code",
   "execution_count": 37,
   "metadata": {
    "collapsed": false
   },
   "outputs": [
    {
     "data": {
      "text/plain": [
       "array([[215,  56],\n",
       "       [ 53, 226]])"
      ]
     },
     "execution_count": 37,
     "metadata": {},
     "output_type": "execute_result"
    }
   ],
   "source": [
    "# Confusion matrix\n",
    "gb_lgt = sklearn.metrics.confusion_matrix(y_test,y_pred_gb)\n",
    "gb_lgt"
   ]
  },
  {
   "cell_type": "code",
   "execution_count": 38,
   "metadata": {
    "collapsed": false
   },
   "outputs": [
    {
     "data": {
      "text/plain": [
       "<matplotlib.colorbar.Colorbar at 0x225c3d2f278>"
      ]
     },
     "execution_count": 38,
     "metadata": {},
     "output_type": "execute_result"
    },
    {
     "data": {
      "image/png": "[encoded data removed]",
      "text/plain": [
       "<matplotlib.figure.Figure at 0x225c3e6f048>"
      ]
     },
     "metadata": {},
     "output_type": "display_data"
    }
   ],
   "source": [
    "%matplotlib inline\n",
    "plt.matshow(gb_lgt)\n",
    "plt.colorbar()"
   ]
  },
  {
   "cell_type": "code",
   "execution_count": 25,
   "metadata": {
    "collapsed": false
   },
   "outputs": [
    {
     "data": {
      "text/plain": [
       "0.80169688793662131"
      ]
     },
     "execution_count": 25,
     "metadata": {},
     "output_type": "execute_result"
    }
   ],
   "source": [
    "## REPORT Accuracy Score\n",
    "accuracy_gb = sklearn.metrics.accuracy_score(y_test,y_pred_gb) # 80.18%"
   ]
  },
  {
   "cell_type": "markdown",
   "metadata": {},
   "source": [
    "Comparable accuracy to baseline logistic regression model"
   ]
  },
  {
   "cell_type": "code",
   "execution_count": 26,
   "metadata": {
    "collapsed": false
   },
   "outputs": [
    {
     "data": {
      "text/plain": [
       "<matplotlib.text.Text at 0x225c3e9f8d0>"
      ]
     },
     "execution_count": 26,
     "metadata": {},
     "output_type": "execute_result"
    },
    {
     "data": {
      "image/png": "[encoded data removed]",
      "text/plain": [
       "<matplotlib.figure.Figure at 0x225c3e1d0b8>"
      ]
     },
     "metadata": {},
     "output_type": "display_data"
    }
   ],
   "source": [
    "## PLOT Feature Importance\n",
    "bar_width = 0.5\n",
    "xtick_place = np.arange(0+bar_width/2,11+bar_width/2,1)\n",
    "\n",
    "plt.bar(range(0,11),model_gb.feature_importances_, bar_width)\n",
    "plt.xticks(xtick_place,features,rotation = 'vertical')\n",
    "plt.xlim(-bar_width,10+2*bar_width)\n",
    "plt.title(\"Gradient Boosting: Feature Importance\",size=14)"
   ]
  },
  {
   "cell_type": "markdown",
   "metadata": {},
   "source": [
    "Select Top 6 features: follower_count, following_count, listed_count, retweets_received, network_feature_1, network_feature_2\n",
    "\n",
    "Intuitively, retweets_received seems important, as well as follower count.  In essence, follower_count is a social measure of influence.  On it's face, following_count would not seem to provide a measure of social influence - however, it could measure a degree of social interaction that could be important for influence.\n",
    "\n",
    "We set the threshold at 6 features arbitrarily, and trained a logistic regression model using these features to compare accuracy performance."
   ]
  },
  {
   "cell_type": "code",
   "execution_count": 28,
   "metadata": {
    "collapsed": true
   },
   "outputs": [],
   "source": [
    "top_6 = [0,1,2,4,8,9]\n",
    "X_train_6 = X_train[:,top_6] \n",
    "X_test_6 = X_test[:,top_6]"
   ]
  },
  {
   "cell_type": "code",
   "execution_count": 29,
   "metadata": {
    "collapsed": false
   },
   "outputs": [
    {
     "data": {
      "text/plain": [
       "0.79818181818181821"
      ]
     },
     "execution_count": 29,
     "metadata": {},
     "output_type": "execute_result"
    }
   ],
   "source": [
    "# Logistic (w/ param optimization)\n",
    "model_logit_6 = linear_model.LogisticRegression(fit_intercept = False)\n",
    "model_logit_6.fit(X_train_6,y_train)\n",
    "y_pred_lgt_6 = model_logit_6.predict(X_test_6)\n",
    "\n",
    "## REPORT Accuracy Score\n",
    "accuracy_lgt_6 = sklearn.metrics.accuracy_score(y_test,y_pred_lgt_6) # 79.82%\n",
    "accuracy_lgt_6"
   ]
  },
  {
   "cell_type": "markdown",
   "metadata": {},
   "source": [
    "Comparable accuracy to baseline logistic regression model"
   ]
  },
  {
   "cell_type": "markdown",
   "metadata": {},
   "source": [
    "After training a GBM model using default value, we used gridsearch to optimize parameters.  The goal here is to see how much the baseline GBM model can be improved."
   ]
  },
  {
   "cell_type": "code",
   "execution_count": null,
   "metadata": {
    "collapsed": true
   },
   "outputs": [],
   "source": [
    "# Gradient Boosting (w/ param optimization)\n",
    "params = {\n",
    "          'n_estimators' : [100, 200, 300, 400, 500],\n",
    "          'learning_rate' : [0.05, 0.08, 0.1, 0.2], \n",
    "          'max_depth' : [2,3,4,5],\n",
    "         }\n",
    "\n",
    "estimator_gb_6 = sklearn.ensemble.GradientBoostingClassifier(loss = 'exponential')\n",
    "model_gb_6 = sklearn.grid_search.GridSearchCV(estimator_gb_6,param_grid = params)\n",
    "model_gb_6.fit(X_train_6,y_train)\n",
    "  ## Param:\n",
    "   # loss = 'exponential'   - AdaBoost\n",
    "   # n_estimators = 100\n",
    "   # max_depth = 3\n",
    "   # learning_rate = 0.1\n",
    "   # subsample = 1   - Global (Not Stochastic)\n",
    "   # max_features = 11\n",
    "\n",
    "y_pred_gb_6 = model_gb.predict(X_test_6)"
   ]
  },
  {
   "cell_type": "code",
   "execution_count": null,
   "metadata": {
    "collapsed": true
   },
   "outputs": [],
   "source": [
    "# REPORT GB Accuracy Score\n",
    "accuracy_gb_6 = sklearn.metrics.accuracy_score(y_test,y_pred_gb_6) # 79.27%"
   ]
  },
  {
   "cell_type": "markdown",
   "metadata": {},
   "source": [
    "This didn't generate a significant improvement in overall accuracy from either the baseline logistic model or the baseline GBM model. "
   ]
  },
  {
   "cell_type": "markdown",
   "metadata": {},
   "source": [
    "We also looked at learning an SVM model with parameter optimization."
   ]
  },
  {
   "cell_type": "code",
   "execution_count": null,
   "metadata": {
    "collapsed": true
   },
   "outputs": [],
   "source": [
    "# SVM (w/ param optimization)\n",
    "params_svm = {\n",
    "              'kernel' : ('linear','rbf'),\n",
    "              'C' : [1,10,100]\n",
    "             }\n",
    "X_train_6_n = sklearn.preprocessing.normalize(X_train_6,axis=0)\n",
    "X_test_6_n = sklearn.preprocessing.normalize(X_test_6,axis=0)\n",
    "\n",
    "estimator_svm_6 = sklearn.svm.SVC()\n",
    "model_svm_6 = sklearn.grid_search.GridSearchCV(estimator_svm_6,params_svm)\n",
    "\n",
    "model_svm_6.fit(X_train_6_n, y_train)\n",
    "y_pred_svm_6 = model_svm_6.predict(X_test_6_n)"
   ]
  },
  {
   "cell_type": "code",
   "execution_count": null,
   "metadata": {
    "collapsed": true
   },
   "outputs": [],
   "source": [
    "# REPORT SVM Accuracy Score\n",
    "accuracy_svm_6 = sklearn.metrics.accuracy_score(y_test,y_pred_svm_6) # 79.45%"
   ]
  },
  {
   "cell_type": "markdown",
   "metadata": {},
   "source": [
    "SVM does not provide a marked improvement over baseline logistic."
   ]
  },
  {
   "cell_type": "markdown",
   "metadata": {},
   "source": [
    "### Conclusion:\n",
    "\n",
    "Top 6 features: \n",
    " follower_count, following_count, listed_count, retweets_received, network_feature_1, network_feature_2\n",
    "\n",
    "Our preferred model ended up being a baseline logistic regression with log-tranformed features, and reduced using gradient boosting.  Alternate deep learning models did not generate signficant accuracy improvements, so we selected the most straight-forward and interpretable model.\n",
    "\n",
    "Accuracy: 79.82%"
   ]
  },
  {
   "cell_type": "markdown",
   "metadata": {},
   "source": [
    "## TASK 4"
   ]
  },
  {
   "cell_type": "code",
   "execution_count": 33,
   "metadata": {
    "collapsed": true
   },
   "outputs": [],
   "source": [
    "#Using the selected model above, we mapped an extra prediction column to the raw data set\n",
    "raw_all_A = raw.iloc[:,1:12].as_matrix()\n",
    "raw_all_B = raw.iloc[:,12:].as_matrix()\n",
    "raw_all = log_trans(raw_all_A) - log_trans(raw_all_B)\n",
    "raw_all_new = raw_all[:,top_6]\n",
    "y_pred_all = model_logit_6.predict(raw_all_new)\n",
    "raw['Prediction'] = y_pred_all"
   ]
  },
  {
   "cell_type": "markdown",
   "metadata": {},
   "source": [
    "Without using analytics, expected revenue is calculated below.  Without analytics, you pay each person $1 to tweet once in support of your product.  Since there are two people per data row, your cost is length*2.\n",
    "\n",
    "From a revenue perspective, your expected revenue is 0.1%*$50 of each person's followers if they are an influencer."
   ]
  },
  {
   "cell_type": "code",
   "execution_count": 34,
   "metadata": {
    "collapsed": false
   },
   "outputs": [
    {
     "data": {
      "text/plain": [
       "268828429.65000004"
      ]
     },
     "execution_count": 34,
     "metadata": {},
     "output_type": "execute_result"
    }
   ],
   "source": [
    "cost = len(raw)*2\n",
    "mask_0 = raw['Choice'] == 0 #Find the rows where B is the influencer\n",
    "fol_B = sum(raw[mask_0]['B_follower_count'])  #sum B's followers\n",
    "mask_1 = raw['Choice'] == 1\n",
    "fol_A = sum(raw[mask_1]['A_follower_count'])\n",
    "all_fol = fol_A + fol_B\n",
    "rev_wo_analytics = all_fol * 0.001*50\n",
    "rev_wo_analytics"
   ]
  },
  {
   "cell_type": "markdown",
   "metadata": {},
   "source": [
    "Using analytics with a model of 80% accuracy score, expected revenue is calculated below.\n",
    "\n",
    "Your cost is equivalent, because for each row you're selecting a single person of greater influence to give $2.  The expected return on correctly classified influencers is 0.15%, while the expected return on incorrectly classified influencers is still 0."
   ]
  },
  {
   "cell_type": "code",
   "execution_count": 35,
   "metadata": {
    "collapsed": false
   },
   "outputs": [
    {
     "data": {
      "text/plain": [
       "375007746.97500002"
      ]
     },
     "execution_count": 35,
     "metadata": {},
     "output_type": "execute_result"
    }
   ],
   "source": [
    "mask_equal = raw['Choice'] == raw['Prediction']\n",
    "raw_analytics = raw[mask_equal]\n",
    "mask_0 = raw_analytics['Choice'] == 0 \n",
    "fol_B = sum(raw_analytics[mask_0]['B_follower_count'])\n",
    "mask_1 = raw_analytics['Choice'] == 1\n",
    "fol_A = sum(raw_analytics[mask_1]['A_follower_count'])\n",
    "all_fol_analytics = fol_A + fol_B\n",
    "rev_w_analytics = all_fol_analytics * 0.0015*50\n",
    "rev_w_analytics"
   ]
  },
  {
   "cell_type": "markdown",
   "metadata": {},
   "source": [
    "Given perfect information, he maximum revenue that can be generated from Twitter is calculated below (100% accuracy)."
   ]
  },
  {
   "cell_type": "code",
   "execution_count": 36,
   "metadata": {
    "collapsed": false
   },
   "outputs": [
    {
     "data": {
      "text/plain": [
       "403242644.47500002"
      ]
     },
     "execution_count": 36,
     "metadata": {},
     "output_type": "execute_result"
    }
   ],
   "source": [
    "mask_0 = raw['Choice'] == 0 \n",
    "fol_B = sum(raw[mask_0]['B_follower_count'])\n",
    "mask_1 = raw['Choice'] == 1\n",
    "fol_A = sum(raw[mask_1]['A_follower_count'])\n",
    "all_fol = fol_A + fol_B\n",
    "rev_perfect = all_fol * 0.0015*50\n",
    "rev_perfect"
   ]
  },
  {
   "cell_type": "code",
   "execution_count": null,
   "metadata": {
    "collapsed": true
   },
   "outputs": [],
   "source": []
  }
 ],
 "metadata": {
  "kernelspec": {
   "display_name": "Python 3",
   "language": "python",
   "name": "python3"
  },
  "language_info": {
   "codemirror_mode": {
    "name": "ipython",
    "version": 3
   },
   "file_extension": ".py",
   "mimetype": "text/x-python",
   "name": "python",
   "nbconvert_exporter": "python",
   "pygments_lexer": "ipython3",
   "version": "3.5.1"
  }
 },
 "nbformat": 4,
 "nbformat_minor": 0
}
